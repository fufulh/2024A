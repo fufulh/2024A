{
 "cells": [
  {
   "cell_type": "code",
   "execution_count": 26,
   "outputs": [],
   "source": [
    "import numpy as np\n",
    "import scipy.optimize as opt\n",
    "import math\n",
    "import pandas as pd\n",
    "\n",
    "# 螺线方程 r = b*theta\n",
    "b = 0.55 / (2 * np.pi)\n",
    "\n",
    "# 求解当前龙头走过的距离\n",
    "def calcule_distance(v_dragon_head, time):\n",
    "    return v_dragon_head * time\n",
    "\n",
    "# 求解阿基米德螺线弧长\n",
    "def calcule_arc_length(theta):\n",
    "    return 0.5 * b * (theta * np.sqrt(1 + theta ** 2) + np.arcsinh(theta))\n",
    "\n",
    "# 定义龙头目标函数\n",
    "def equation1(theta, time, v_dragon_head):\n",
    "    distance = calcule_distance(v_dragon_head, time)\n",
    "    return calcule_arc_length(32 * np.pi) - 0.5 * b * (theta * np.sqrt(1 + theta ** 2) + np.arcsinh(theta)) - distance\n",
    "\n",
    "# 求解龙头在阿基米德螺线上的极角\n",
    "def calculate_theta(time, v_dragon_head):\n",
    "    initial_guess = 0\n",
    "    theta_solution, = opt.fsolve(equation1, initial_guess, args=(time, v_dragon_head))\n",
    "    return theta_solution\n",
    "\n",
    "# 求解位置\n",
    "def calculate_position(theta):\n",
    "    if theta > 32 * np.pi:\n",
    "        x,y = 0, 0\n",
    "    else:\n",
    "        x = b * theta * np.cos(theta)\n",
    "        y = b * theta * np.sin(theta)\n",
    "    return x, y\n",
    "\n",
    "# 定义龙身目标函数\n",
    "def equation2(theta1, theta2, l):\n",
    "    return (b*theta1)**2 + (b*theta2)**2 - 2 * b * b * theta1 * theta2 * np.cos(theta2 - theta1) - l**2\n",
    "\n",
    "# 递归求解龙身的极角\n",
    "def calculate_body_theta(theta, l):\n",
    "    initial_guess = theta + 0.09  # 初始猜测值略大于 theta\n",
    "    theta_solution, = opt.fsolve(equation2, initial_guess, args=(theta, l))\n",
    "    return theta_solution\n",
    "\n",
    "# 阿基米德螺线导函数\n",
    "def archimedean_spiral_derivative(theta):\n",
    "    numerator = b * np.sin(theta) + b * theta * np.cos(theta)\n",
    "    denominator = b * np.cos(theta) - b * theta * np.sin(theta)\n",
    "    return numerator / denominator\n",
    "\n",
    "# 求theta 和theta1的两点的方程\n",
    "def line(theta1, theta2):\n",
    "    x1, y1 = calculate_position(theta1)\n",
    "    x2, y2 = calculate_position(theta2)\n",
    "    return  (y2 - y1) / (x2 - x1)\n",
    "\n",
    "# 计算两直线夹角\n",
    "def calculate_angle(m1, m2):\n",
    "    if m1 == m2:\n",
    "        return 0  # 平行直线夹角为 0 度\n",
    "    elif m1 * m2 == -1:\n",
    "        return np.pi / 2  # 垂直直线夹角为 90 度\n",
    "\n",
    "    tan_theta = abs((m1 - m2) / (1 + m1 * m2))\n",
    "    theta_radians = math.atan(tan_theta)\n",
    "    return theta_radians\n",
    "\n",
    "# 求解龙身速度\n",
    "def calculate_body_velocity(theta1, theta2, v_dragon_head):\n",
    "    if theta1 >32*np.pi or theta2 > 32 * np.pi:\n",
    "        return 0\n",
    "    k1 = archimedean_spiral_derivative(theta1)\n",
    "    k2 = archimedean_spiral_derivative(theta2)\n",
    "    k3 = line(theta1, theta2)\n",
    "    beta1 = calculate_angle(k1, k3)\n",
    "    beta2 = calculate_angle(k2, k3)\n",
    "    v_body = v_dragon_head * np.cos(beta1) / np.cos(beta2)\n",
    "    return v_body\n"
   ],
   "metadata": {
    "collapsed": false,
    "ExecuteTime": {
     "start_time": "2024-09-06T15:43:57.686090Z",
     "end_time": "2024-09-06T15:43:57.702097Z"
    }
   }
  },
  {
   "cell_type": "code",
   "execution_count": 27,
   "outputs": [
    {
     "name": "stdout",
     "output_type": "stream",
     "text": [
      "当前龙头极角： 17.517688025530326\n",
      "龙头位置: x = 0.3629004176825358, y = -1.489853611322843\n",
      "龙头后把手极角： 17.51768803808484\n",
      "龙头后把手位置: x = 0.36290043664700844, y = -1.489853607834547\n",
      "龙头后把手速度: 0.9999999999999999\n",
      "龙身极角： 37.42797233471707\n",
      "龙身位置: x = 3.156571725804316, y = -0.8774805776167401\n",
      "龙身速度: 2.034043700869193\n"
     ]
    }
   ],
   "source": [
    "#使用示例\n",
    "time = 428.9817617653601\n",
    "v_dragon_head = 1\n",
    "l = 2.86\n",
    "theta1 = calculate_theta(time, v_dragon_head)\n",
    "print(f\"当前龙头极角： {theta1}\")\n",
    "x1, y1 = calculate_position(theta1)\n",
    "print(f\"龙头位置: x = {x1}, y = {y1}\")\n",
    "\n",
    "theta2 = calculate_body_theta(theta1, 0)\n",
    "print(f\"龙头后把手极角： {theta2}\")\n",
    "x2, y2 = calculate_position(theta2)\n",
    "print(f\"龙头后把手位置: x = {x2}, y = {y2}\")\n",
    "v_body = calculate_body_velocity(theta1,theta2, v_dragon_head)\n",
    "print(f\"龙头后把手速度: {v_body}\")\n",
    "theta3 = calculate_body_theta(theta2, l)\n",
    "print(f\"龙身极角： {theta3}\")\n",
    "x3, y3 = calculate_position(theta3)\n",
    "print(f\"龙身位置: x = {x3}, y = {y3}\")\n",
    "v_body = calculate_body_velocity(theta2,theta3, v_dragon_head)\n",
    "print(f\"龙身速度: {v_body}\")"
   ],
   "metadata": {
    "collapsed": false,
    "ExecuteTime": {
     "start_time": "2024-09-06T15:43:58.648772Z",
     "end_time": "2024-09-06T15:43:58.670818Z"
    }
   }
  },
  {
   "cell_type": "code",
   "execution_count": 23,
   "outputs": [
    {
     "name": "stdout",
     "output_type": "stream",
     "text": [
      "结果已保存到 result1.xlsx 文件中\n"
     ]
    }
   ],
   "source": [
    "# 初始化结果列表\n",
    "results_position = []  # 记录位置 (x, y)\n",
    "results_velocity = []  # 记录速度\n",
    "\n",
    "# 计算每秒钟的位置和速度\n",
    "for t in range(301):\n",
    "    time_result_position = []\n",
    "    time_result_velocity = []\n",
    "\n",
    "    # 计算龙头位置和速度\n",
    "    theta_head = calculate_theta(t, 1)\n",
    "    x_head, y_head = calculate_position(theta_head)\n",
    "    time_result_position.extend([x_head, y_head])\n",
    "    time_result_velocity.append(1)\n",
    "\n",
    "    prev_theta = theta_head\n",
    "    pre_v = 1\n",
    "\n",
    "    for i in range(1, 224):  # 计算龙身位置和速度\n",
    "        length = 2.86 if i == 1 else 1.65\n",
    "        theta_body = calculate_body_theta(prev_theta, length)\n",
    "        x_body, y_body = calculate_position(theta_body)\n",
    "        v_body = calculate_body_velocity(prev_theta, theta_body, pre_v)\n",
    "        time_result_position.extend([x_body, y_body])\n",
    "        time_result_velocity.append(v_body)\n",
    "        prev_theta = theta_body\n",
    "        pre_v = v_body\n",
    "\n",
    "    # 保存当前时间点的结果\n",
    "    results_position.append(time_result_position)\n",
    "    results_velocity.append(time_result_velocity)\n",
    "\n",
    "# 转换为DataFrame\n",
    "position_columns = []\n",
    "velocity_columns = []\n",
    "for i in range(224):\n",
    "    position_columns.extend([f'x_{i}', f'y_{i}'])\n",
    "    velocity_columns.append(f'v_{i}')\n",
    "\n",
    "df_position = pd.DataFrame(results_position, columns=position_columns)\n",
    "df_velocity = pd.DataFrame(results_velocity, columns=velocity_columns)\n",
    "\n",
    "\n",
    "df_velocity = df_velocity.T\n",
    "df_position = df_position.T\n",
    "#保存到Excel文件\n",
    "with pd.ExcelWriter('result1.xlsx') as writer:\n",
    "    df_position.to_excel(writer, sheet_name='位置', index=False)\n",
    "    df_velocity.to_excel(writer, sheet_name='速度', index=False)\n",
    "\n",
    "print(\"结果已保存到 result1.xlsx 文件中\")"
   ],
   "metadata": {
    "collapsed": false,
    "ExecuteTime": {
     "start_time": "2024-09-06T15:37:21.277073Z",
     "end_time": "2024-09-06T15:37:29.157228Z"
    }
   }
  },
  {
   "cell_type": "code",
   "execution_count": 24,
   "outputs": [
    {
     "name": "stdout",
     "output_type": "stream",
     "text": [
      "索引已修改并保存到 result_modified.xlsx 文件中\n"
     ]
    }
   ],
   "source": [
    "import pandas as pd\n",
    "\n",
    "# 读取Excel文件中的工作表\n",
    "df_position = pd.read_excel(\"D:\\\\code\\\\vscode\\\\数学建模模型\\\\2024A\\\\result1.xlsx\", sheet_name=\"位置\")\n",
    "df_velocity = pd.read_excel(\"D:\\\\code\\\\vscode\\\\数学建模模型\\\\2024A\\\\result1.xlsx\", sheet_name=\"速度\")\n",
    "\n",
    "# 生成新索引\n",
    "index = [\"龙头x (m)\", \"龙头y (m)\"]\n",
    "for i in range(1, 222):\n",
    "    index.append(f'第{i}节龙身x (m)')\n",
    "    index.append(f'第{i}节龙身y (m)')\n",
    "index.append(\"龙尾x (m)\")\n",
    "index.append(\"龙尾y (m)\")\n",
    "index.append(\"龙尾（后）x (m)\")\n",
    "index.append(\"龙尾（后）y (m)\")\n",
    "\n",
    "index1 = [\"龙头 (m/s)\"]\n",
    "for i in range(1, 222):\n",
    "    index1.append(f'第{i}节龙身 (m/s)')\n",
    "index1.append(\"龙尾 (m/s)\")\n",
    "index1.append(\"龙尾（后）(m/s)\")\n",
    "\n",
    "# 生成时间点索引\n",
    "\n",
    "time_points = [f\"{i} s\" for i in range(301)]\n",
    "# 设置列名为时间点\n",
    "df_position.columns = time_points\n",
    "df_velocity.columns = time_points\n",
    "\n",
    "# 将索引设置为新生成的索引\n",
    "df_position.set_index(pd.Index(index), inplace=True)\n",
    "df_velocity.set_index(pd.Index(index1), inplace=True)\n",
    "\n",
    "# 保存修改后的数据到新的Excel文件\n",
    "with pd.ExcelWriter('D:\\\\code\\\\vscode\\\\数学建模模型\\\\2024A\\\\result_modified.xlsx') as writer:\n",
    "    df_position.to_excel(writer, sheet_name='位置', index=True)\n",
    "    df_velocity.to_excel(writer, sheet_name='速度', index=True)\n",
    "\n",
    "print(\"索引已修改并保存到 result_modified.xlsx 文件中\")"
   ],
   "metadata": {
    "collapsed": false,
    "ExecuteTime": {
     "start_time": "2024-09-06T15:37:31.056824Z",
     "end_time": "2024-09-06T15:37:34.213608Z"
    }
   }
  },
  {
   "cell_type": "code",
   "execution_count": 25,
   "outputs": [
    {
     "name": "stdout",
     "output_type": "stream",
     "text": [
      "theta_head: 17.517688025530326\n",
      "x_head: 0.3629004176825358, y_head: -1.489853611322843\n",
      "[[0.3629004176825358, -1.489853611322843]]\n",
      "结果已保存到 result2.xlsx\n"
     ]
    },
    {
     "name": "stderr",
     "output_type": "stream",
     "text": [
      "D:\\Program Files\\Anaconda3\\lib\\site-packages\\scipy\\optimize\\_minpack_py.py:178: RuntimeWarning: The iteration is not making good progress, as measured by the \n",
      "  improvement from the last ten iterations.\n",
      "  warnings.warn(msg, RuntimeWarning)\n"
     ]
    }
   ],
   "source": [
    "# 第二问持续到 t = 428.9817617653601\n",
    "t = 428.9817617653601\n",
    "time_result_position = []\n",
    "time_result_velocity = []\n",
    "\n",
    "# 计算龙头位置和速度\n",
    "theta_head = calculate_theta(t, 1)\n",
    "print(f\"theta_head: {theta_head}\")\n",
    "x_head, y_head = calculate_position(theta_head)\n",
    "print(f\"x_head: {x_head}, y_head: {y_head}\")\n",
    "time_result_position.append([x_head, y_head])\n",
    "time_result_velocity.append(1)\n",
    "print(time_result_position)\n",
    "prev_theta = theta_head\n",
    "pre_v = 1\n",
    "\n",
    "for i in range(1, 224):  # 计算龙身位置和速度\n",
    "\n",
    "    length = 2.86 if i == 1 else 1.65\n",
    "    theta_body = calculate_body_theta(prev_theta, length)\n",
    "    x_body, y_body = calculate_position(theta_body)\n",
    "    v_body = calculate_body_velocity(prev_theta, theta_body, pre_v)\n",
    "    time_result_position.append([x_body, y_body])\n",
    "    time_result_velocity.append(v_body)\n",
    "    prev_theta = theta_body\n",
    "    pre_v = v_body\n",
    "\n",
    "# 创建行索引\n",
    "index_names = [\"龙头\"] + [f\"第{i}节龙身\" for i in range(1, 222)] + [\"龙尾\", \"龙尾（后）\"]\n",
    "\n",
    "# 创建数据框\n",
    "df_position = pd.DataFrame(time_result_position, columns=[\"横坐标x (m)\", \"纵坐标y (m)\"], index=index_names)\n",
    "df_velocity = pd.DataFrame(time_result_velocity, columns=[\"速度 (m/s)\"], index=index_names)\n",
    "\n",
    "# 将位置和速度合并到一个数据框中\n",
    "result_df = pd.concat([df_position, df_velocity], axis=1)\n",
    "\n",
    "# 保存到 Excel 文件\n",
    "result_df.to_excel(\"result2.xlsx\")\n",
    "\n",
    "print(\"结果已保存到 result2.xlsx\")"
   ],
   "metadata": {
    "collapsed": false,
    "ExecuteTime": {
     "start_time": "2024-09-06T15:37:37.079032Z",
     "end_time": "2024-09-06T15:37:37.130032Z"
    }
   }
  },
  {
   "cell_type": "code",
   "execution_count": null,
   "outputs": [],
   "source": [],
   "metadata": {
    "collapsed": false
   }
  }
 ],
 "metadata": {
  "kernelspec": {
   "display_name": "Python 3",
   "language": "python",
   "name": "python3"
  },
  "language_info": {
   "codemirror_mode": {
    "name": "ipython",
    "version": 2
   },
   "file_extension": ".py",
   "mimetype": "text/x-python",
   "name": "python",
   "nbconvert_exporter": "python",
   "pygments_lexer": "ipython2",
   "version": "2.7.6"
  }
 },
 "nbformat": 4,
 "nbformat_minor": 0
}
